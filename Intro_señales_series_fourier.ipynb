{
  "nbformat": 4,
  "nbformat_minor": 0,
  "metadata": {
    "colab": {
      "name": "Intro_señales_series_fourier.ipynb",
      "provenance": [],
      "collapsed_sections": [],
      "authorship_tag": "ABX9TyMJ0TSezkPJ+IXM9P/FrMQD",
      "include_colab_link": true
    },
    "kernelspec": {
      "name": "python3",
      "display_name": "Python 3"
    }
  },
  "cells": [
    {
      "cell_type": "markdown",
      "metadata": {
        "id": "view-in-github",
        "colab_type": "text"
      },
      "source": [
        "<a href=\"https://colab.research.google.com/github/mario-i-caicedo-ai/Series-de-Fourier/blob/master/Intro_se%C3%B1ales_series_fourier.ipynb\" target=\"_parent\"><img src=\"https://colab.research.google.com/assets/colab-badge.svg\" alt=\"Open In Colab\"/></a>"
      ]
    },
    {
      "cell_type": "markdown",
      "metadata": {
        "id": "sGF_8RtBFQLn",
        "colab_type": "text"
      },
      "source": [
        "# Series de Fourier Trigonométricas"
      ]
    },
    {
      "cell_type": "code",
      "metadata": {
        "id": "NhjApKUe1_9d",
        "colab_type": "code",
        "colab": {}
      },
      "source": [
        "# Bibliotecas\n",
        "\n",
        "import numpy as np\n",
        "import matplotlib . pyplot as plt "
      ],
      "execution_count": null,
      "outputs": []
    },
    {
      "cell_type": "markdown",
      "metadata": {
        "id": "zAZl716C8pSl",
        "colab_type": "text"
      },
      "source": [
        "## Teorema de Fourier\n",
        "\n",
        "Una función periódica de cuadrado integrable ($\\int_{t_0}^\\infty\\,ds\\,g^2(s)<\\infty$) y período $T$ puede expresarse como una serie infinita de la forma\n",
        "$$\n",
        "g(t)=a_0+\\sum_{p=1}^{\\infty}\\,a_n\\,cos(n\\,\\omega_o\\,t)+\\sum_{p=1}^{\\infty}\\,b_n\\,sen(p\\,\\omega_o\\,t)\\,,\\quad{}con\\,\\,\\,\\omega_0=\\frac{2\\pi}{T}$$\n",
        "\n",
        "* $a_0=\\frac{1}{T}\\int_0^T\\,ds\\,g(s)$\n",
        "\n",
        "* $a_n=\\frac{2}{T}\\int_0^T\\,ds\\,g(s)\\,cos(\\omega_n\\,s)$\n",
        "\n",
        "* $b_n=\\frac{2}{T}\\int_0^T\\,ds\\,g(s)\\,sen(\\omega_n\\,s)$"
      ]
    },
    {
      "cell_type": "markdown",
      "metadata": {
        "id": "m3bzEK4M-ZP2",
        "colab_type": "text"
      },
      "source": [
        "## Cometarios de interés\n",
        "\n",
        "* La cantidad $f=\\frac{1}{T}$ es denomina  frecuencia fundamental de $g$, cuando la variable $(t)$ es temporal y se mide en segundos, la frecuencia se mide en $Hz$. \n",
        "* La cantidad $\\omega_0=2\\pi\\,f$ se conoce como *frecuncia angular fundamental*, mientras que las $n\\,f$ y $\\omega_n$ se denominan subarmóniocs.  \n",
        "* Las funciones periódicas de cuadrado integrable constituyen un espacio vectorial ($\\mathcal{L}^2$) de dimensión infinita\n",
        "* $\\mathcal{L}^2$ posee un producto vectorial y una norma dados por:\n",
        "$$<f|g>\\equiv{}\\int_0^T\\,ds\\,f(t)g(t)\\,,\\qquad{}||f||\\equiv{}<f|f>$$\n",
        "* La serie de Fourier puede (y debe) pensarse como el  desarrollo del vector $f(t)$ en una base del espacio, en este caso, la base compuesta por el conjunto de vectores:\n",
        "$$\\mathcal{B}=\\{\\mathbf{u}_0,\\mathbf{u}_1,\\mathbf{e}_1,\\mathbf{u}_2,\\mathbf{e}_2...\\}=\\{1,cos(\\omega_0\\,t),sen(\\omega_0\\,t),cos(2\\omega_0\\,t),sen(2\\omega_0\\,t),....\\}$$\n",
        "* En el lenguaje ordinario de álgebra líneal, $\\mathcal{B}$ es una base ortogonal y por lo tanto, los coeficientes del desarrollo de un vector en términos de los elementos de $\\mathcal{B}$ son\n",
        "$$a_n=\\frac{<\\mathbf{u}_n|f>}{||\\mathbf{u}_n||}\\,\\,\\qquad{}\\,b_n\\frac{<\\mathbf{e}_n|f>}{||\\mathbf{e}_n||}$$\n",
        "* Otra forma de encontrar los coeficientes es pedir que el error cuadrático medio \n",
        "$$\\varepsilon\\equiv{}||f-\\mathcal{S}_N||$$\n",
        "entre $f$ y la suma parcial\n",
        "$$S_N=a_0+\\sum_{p=1}^{N}\\,a_n\\,cos(n\\,\\omega_o\\,t)+\\sum_{p=1}^{N}\\,b_n\\,sen(p\\,\\omega_o\\,t)\\,,$$\n",
        "pensada como función de los coeficientes, alcance un mínimo"
      ]
    },
    {
      "cell_type": "markdown",
      "metadata": {
        "id": "t0CE1_mz2DbV",
        "colab_type": "text"
      },
      "source": [
        "# Algunas series de Fourier "
      ]
    },
    {
      "cell_type": "code",
      "metadata": {
        "id": "PqeXz2jOMrD7",
        "colab_type": "code",
        "colab": {}
      },
      "source": [
        ""
      ],
      "execution_count": null,
      "outputs": []
    },
    {
      "cell_type": "markdown",
      "metadata": {
        "id": "fBXnEN_r2NwA",
        "colab_type": "text"
      },
      "source": [
        "# E 1: Onda Triangular\n",
        "\n",
        "$$f(t)=\\sum_{n=0}^\\infty\\,c_n\\,cos(\\omega_n\\,t)$$\n",
        "\n",
        "$$c_n=-\\frac{4}{\\pi}\\,\\frac{1}{(2n+1)^2}\\,\\quad{}\\omega_n=(2n+1)\\omega_0\\,\\quad{}\\omega_0=2\\pi\\,.f$$\n",
        "\n",
        "Donde $f$ es la frecuencia en $Hz$"
      ]
    },
    {
      "cell_type": "code",
      "metadata": {
        "id": "k2PXxAW64AoT",
        "colab_type": "code",
        "colab": {}
      },
      "source": [
        "#=====================================\n",
        "# Coeficientes de Fourier para la onda triangular\n",
        "# Arfken, prob 14.3.4\n",
        "\n",
        "def coeff_tri_a(N):\n",
        "  a=np.zeros(N) #inicializacion\n",
        "  # Calculo\n",
        "  for n in range(0,N):\n",
        "    k=2.*n+1\n",
        "    a[n]=-4./(np.pi*k*k) \n",
        "  return a\n",
        "\n",
        "#=====================================\n",
        "\n",
        "# Señal triangular\n",
        "# A esta función se pasan los siguientes parámetros: \n",
        "# x, la variable (función(x)). \n",
        "# f la frec. en Hz y \n",
        "# p el número de términos que sumaremos\n",
        "\n",
        "def s_triang(x,f,p):\n",
        "    c=coeff_tri_a(p)\n",
        "#   val=np.pi/2\n",
        "    val=0.\n",
        "    omega_0=2.*np.pi*f\n",
        "    for n in range(0,p):\n",
        "       omega_n=(2.*n+1)*omega_0\n",
        "       #\n",
        "       val = val-c[n]*np.cos(omega_n*x)\n",
        "    return val\n",
        "\n",
        "#=====================================\n"
      ],
      "execution_count": null,
      "outputs": []
    },
    {
      "cell_type": "markdown",
      "metadata": {
        "id": "dYtawtVJ4e0I",
        "colab_type": "text"
      },
      "source": [
        "# E 2: Onda Cuadrada\n",
        "\n",
        "Para este ejemplo tomaremos ventaja del siguiente teorema: \n",
        "\n",
        "*Cuando las series de Fourier convergen uniformemente (ese es el caso de la onda triangular), se pueden derivar (e integrar) término a término*.\n",
        "\n",
        "Si se piensa un poco, resulta evidente que la derivada de la onda triangular es una onda cuadrada cuyos valores representan la alternancia de las pendientes de la onda triangular.\n",
        "\n",
        "$$\\frac{df(t)}{dt}=-\\sum_{n=0}^\\infty\\,\\omega_n\\,c_n\\,sen(\\omega_n\\,t)=\\sum_{n=0}^\\infty\\,\\omega_n\\,c_n\\,cos(\\omega_n\\,t+\\phi_n)$$\n",
        "\n",
        "acá, los $c_n$ y $\\omega_n$ son los de la onda triangular y las fases $\\phi_n$ son idénticas con valor $-\\pi/2$.  Es decir, la derivación implica multiplicar los coeficientes por las frecuencias que les corresponden y adelantar $cos(...)$ en $\\pi/2$. \n",
        "\n",
        "**NOTA** En el contínuo (cuando hacemos transformada de Fourier) la derivación corresponde a la multiplicación por $-i\\,\\omega$, es decir:\n",
        "\n",
        "$$\\frac{d}{dt}\\leftrightarrow{}-i\\omega$$\n",
        "\n",
        "Como último comentario, notemos como las discontinuidades de primer orden llevan a la aparición del _fenómeno de Hibbs_ (Hibbs overshoot)."
      ]
    },
    {
      "cell_type": "code",
      "metadata": {
        "id": "FmK8pk2y5_L7",
        "colab_type": "code",
        "colab": {}
      },
      "source": [
        "# El pase de parámetros es igual al de la onda triangular\n",
        "\n",
        "def s_square(x,f,p):  \n",
        "    c=coeff_tri_a(p) # Nótese la llamada a los coeficientes de la onda triangular\n",
        "\n",
        "    val=0.\n",
        "    omega_0=2.*np.pi*f\n",
        "    for n in range(0,p):\n",
        "       omega_n=(2.*n+1)*omega_0\n",
        "       #\n",
        "       val = val+omega_n*c[n]*np.cos(omega_n*x-np.pi/2.)\n",
        "    return val"
      ],
      "execution_count": null,
      "outputs": []
    },
    {
      "cell_type": "markdown",
      "metadata": {
        "id": "Wt5UlScZ0_La",
        "colab_type": "text"
      },
      "source": [
        "# E 3: Onda Diente de Sierra\n",
        "\n",
        "$$f(t)=\\frac{1}{2}+\\sum_{n=1}^\\infty\\,c_n\\,sen(\\omega_n\\,t)$$\n",
        "\n",
        "$$c_n=-\\frac{1}{n\\pi}\\,\\quad{}\\omega_n=n\\omega_0\\,\\quad{}\\omega_0=2\\pi\\,.f$$\n",
        "\n",
        "Donde $f$ es la frecuencia en $Hz$"
      ]
    },
    {
      "cell_type": "code",
      "metadata": {
        "id": "Dzco3iMiyKI2",
        "colab_type": "code",
        "colab": {}
      },
      "source": [
        "#=====================================\n",
        "# Coeficientes de Fourier para la onda diente de sierra\n",
        "# https://mathworld.wolfram.com/FourierSeriesSawtoothWave.html\n",
        "\n",
        "def coeff_sawtooth(N):\n",
        "  A=np.zeros(N) #inicializacion\n",
        "  # Calculo\n",
        "  for n in range(1,N):\n",
        "    A[n]=-1./(np.pi*n) \n",
        "  return A\n",
        "\n",
        "#=====================================\n",
        "\n",
        "# Señal diente de sierra\n",
        "# A esta función se pasan los siguientes parámetros: \n",
        "# x, la variable (función(x)). \n",
        "# f la frec. en Hz y \n",
        "# p el número de términos que sumaremos\n",
        "\n",
        "def s_sawtooth(x,f,p):\n",
        "    c=coeff_sawtooth(p)\n",
        "    val=1/2\n",
        "    omega_0=2.*np.pi*f\n",
        "    for n in range(0,p):\n",
        "       omega_n=n*omega_0\n",
        "       #\n",
        "       val = val+c[n]*np.sin(omega_n*x)\n",
        "    return val\n",
        "\n",
        "#=====================================\n"
      ],
      "execution_count": null,
      "outputs": []
    },
    {
      "cell_type": "markdown",
      "metadata": {
        "id": "jMHtHGl2148C",
        "colab_type": "text"
      },
      "source": [
        "# E 4: Integración de la Onda Triangular\n",
        "\n",
        "$$g(t)=\\sum_{n=0}^\\infty\\,\\frac{1}{\\omega_n}\\,c_n\\,sen(\\omega_n\\,t)$$\n",
        "\n",
        "$$c_n=-\\frac{4}{\\pi}\\,\\frac{1}{(2n+1)^2}\\,\\quad{}\\omega_n=(2n+1)\\omega_0\\,\\quad{}\\omega_0=2\\pi\\,.f$$\n"
      ]
    },
    {
      "cell_type": "code",
      "metadata": {
        "id": "nhg5x0EjuNQC",
        "colab_type": "code",
        "colab": {}
      },
      "source": [
        "# Integracion de la triangular\n",
        "\n",
        "def I_triang(x,f,p): # Integración de la onda triangular\n",
        "    c=coeff_tri_a(p) # Nótese la llamada a los coeficientes de la onda triangular\n",
        "\n",
        "    val=0.\n",
        "    omega_0=2.*np.pi*f\n",
        "    for n in range(0,p):\n",
        "       omega_n=(2.*n+1)*omega_0\n",
        "       #Triangular Int\n",
        "       val = val+(c[n]/omega_n)*np.cos(omega_n*x+np.pi/2.)\n",
        "    return val"
      ],
      "execution_count": null,
      "outputs": []
    },
    {
      "cell_type": "markdown",
      "metadata": {
        "id": "GL648D8e7e_p",
        "colab_type": "text"
      },
      "source": [
        "# E 5: Onda totalmente rectificada"
      ]
    },
    {
      "cell_type": "code",
      "metadata": {
        "id": "OlXZY22L7kqp",
        "colab_type": "code",
        "colab": {}
      },
      "source": [
        "# Coeficientes de Fourier para la onda rectificada\n",
        "\n",
        "def coeff_rectified_a(N):\n",
        "  a=np.zeros(N) #inicializacion\n",
        "  # Calculo\n",
        "  for n in range(N):\n",
        "    k=2*(n+1)\n",
        "    a[n]=-4./(k**2-1) \n",
        "  return a\n",
        "\n",
        "# Onda rectificada\n",
        "\n",
        "def s_fullrectified(x,f,p):\n",
        "    b=coeff_rectified_a(p)\n",
        "    val=2./np.pi\n",
        "    omega_0=2.*np.pi*f\n",
        "    for n in range(p):\n",
        "      omega_n=omega_0*n\n",
        "      val = val+b[n]*np.cos(omega_n*x)/(np.pi)\n",
        "    return val"
      ],
      "execution_count": null,
      "outputs": []
    },
    {
      "cell_type": "markdown",
      "metadata": {
        "id": "knMuSOkLMvXg",
        "colab_type": "text"
      },
      "source": [
        "## Uso de un diccionario para la escogencia de la serie que queremos estudiar"
      ]
    },
    {
      "cell_type": "code",
      "metadata": {
        "id": "NzZS3iwpMsZX",
        "colab_type": "code",
        "colab": {
          "base_uri": "https://localhost:8080/",
          "height": 82
        },
        "outputId": "f19f9d5a-4a2c-4ec8-8a5a-394ff73cf976"
      },
      "source": [
        "Series={'1':s_triang,'2':s_square,'3':s_fullrectified,'4':s_sawtooth}\n",
        "\n",
        "titulo={'1': 'triangular','2':'cuadrada','3':'Onda rectificada','4':'Diente de Sierra'}\n",
        "\n",
        "print('Escoja su serie:','\\n')\n",
        "print('1 para onda triangular, 2 para onda cuadrada, 3 para onda rectificada, 4 para Diente de Sierra')\n",
        "\n",
        "W_ave=input('Su escogencia? ')"
      ],
      "execution_count": null,
      "outputs": [
        {
          "output_type": "stream",
          "text": [
            "Escoja su serie: \n",
            "\n",
            "1 para onda triangular, 2 para onda cuadrada, 3 para onda rectificada, 4 para Diente de Sierra\n",
            "Su escogencia? 1\n"
          ],
          "name": "stdout"
        }
      ]
    },
    {
      "cell_type": "markdown",
      "metadata": {
        "id": "Wq1HxN7286IB",
        "colab_type": "text"
      },
      "source": [
        "# Cálculo de los valores de la serie en el dominio de interés."
      ]
    },
    {
      "cell_type": "code",
      "metadata": {
        "id": "VHSMIRrz8nvB",
        "colab_type": "code",
        "colab": {
          "base_uri": "https://localhost:8080/",
          "height": 50
        },
        "outputId": "556f63a4-ad16-477e-98da-4e48ec44c340"
      },
      "source": [
        "frec=float(input('Introduzca la frecuencia en Hz '))\n",
        "\n",
        "N_terms=int(input('cuantos terminos desea sumar? '))\n",
        "\n",
        "t_max=2 # segundos\n",
        "\n",
        "t = np.arange ( 0. , 2. , 0.01)\n",
        "\n",
        "N_samples=int(t_max/0.01)\n",
        "\n",
        "\n",
        "# Inicialización del vector (lista) de valores que se graficaran\n",
        "\n",
        "y=np.zeros(N_samples)\n",
        "\n",
        "# Evaluacion de la serie en el intervalo de interes\n",
        "\n",
        "#y=s_triang(t,p) # aprovechando la evaluación \"vectorial\" de Oython. t es una lista\n",
        "#y=s_square(t,frec,p)\n",
        "\n",
        "y=Series[W_ave](t,frec,N_terms) #W_ave es el 'nombre' de la onda."
      ],
      "execution_count": null,
      "outputs": [
        {
          "output_type": "stream",
          "text": [
            "Introduzca la frecuencia en Hz 0.55\n",
            "cuantos terminos desea sumar? 3\n"
          ],
          "name": "stdout"
        }
      ]
    },
    {
      "cell_type": "markdown",
      "metadata": {
        "id": "wcqjgHEaFNiI",
        "colab_type": "text"
      },
      "source": [
        "Por favor observe que los aspectos de ''larga duración'' de la función se relacionan directamente con los subarmónicos asociados a las bajas frecuencias, mientras que los aspectos de corta duración son descritos por los subarmóniocs de frecuencias altas."
      ]
    },
    {
      "cell_type": "code",
      "metadata": {
        "id": "sr8jM3CR9EMp",
        "colab_type": "code",
        "colab": {
          "base_uri": "https://localhost:8080/",
          "height": 295
        },
        "outputId": "1b2ae418-8c30-4cda-95aa-4133a83878b3"
      },
      "source": [
        "# Graficación\n",
        "\n",
        "#plt.legend(loc='best')\n",
        "plt.title('Serie de Fourier Onda '+str(titulo[W_ave])+', número de términos: '+str(N_terms))\n",
        "plt.ylabel('Señal')\n",
        "plt.xlabel('t, segundos')\n",
        "plt.grid()\n",
        "plt.plot (t , y )\n",
        "#plt.savefig ( \"wtf.pdf\" )\n",
        "plt.show () \n"
      ],
      "execution_count": null,
      "outputs": [
        {
          "output_type": "display_data",
          "data": {
            "image/png": "[encoded data removed]",
            "text/plain": [
              "<Figure size 432x288 with 1 Axes>"
            ]
          },
          "metadata": {
            "tags": [],
            "needs_background": "light"
          }
        }
      ]
    },
    {
      "cell_type": "markdown",
      "metadata": {
        "id": "rV5SdALgGpQx",
        "colab_type": "text"
      },
      "source": [
        "# Filtros de Frecuencia"
      ]
    },
    {
      "cell_type": "markdown",
      "metadata": {
        "id": "REj0WWaoF58c",
        "colab_type": "text"
      },
      "source": [
        "## Filtros pasa bajo"
      ]
    },
    {
      "cell_type": "code",
      "metadata": {
        "id": "WPB3-cA-K6_-",
        "colab_type": "code",
        "colab": {}
      },
      "source": [
        "def low_pass_10(N):\n",
        "  filt=np.zeros(N) #inicializacion\n",
        "  # Calculo\n",
        "  for n in range(0,N):\n",
        "    filt[n]=1.-n/N \n",
        "  return filt\n",
        "\n",
        "def low_pass_20(N):\n",
        "  filt=np.zeros(N) #inicializacion\n",
        "  # Calculo\n",
        "  for n in range(0,N):\n",
        "    k=.05*n+1\n",
        "    filt[n]=1./k \n",
        "  return filt\n",
        "\n",
        "\n",
        "def low_pass_30(N):\n",
        "  filt=np.zeros(N) #inicializacion\n",
        "  # Calculo\n",
        "  for n in range(0,N):\n",
        "    k=.05*n+1\n",
        "    filt[n]=1./k**1.5 \n",
        "  return filt\n",
        "\n",
        "def low_pass_40(N):\n",
        "  filt=np.zeros(N) #inicializacion\n",
        "  # Calculo\n",
        "  for n in range(0,N):\n",
        "    k=.5*n+1\n",
        "    filt[n]=1./k \n",
        "  return filt\n"
      ],
      "execution_count": null,
      "outputs": []
    },
    {
      "cell_type": "markdown",
      "metadata": {
        "id": "Jw57lD8mOz_M",
        "colab_type": "text"
      },
      "source": [
        "## Graficación de los filtros."
      ]
    },
    {
      "cell_type": "code",
      "metadata": {
        "id": "NYO9diaJIwPE",
        "colab_type": "code",
        "colab": {
          "base_uri": "https://localhost:8080/",
          "height": 607
        },
        "outputId": "f90d7030-a27e-47af-bb1d-7fe3c51a01f0"
      },
      "source": [
        "# Graficación\n",
        "\n",
        "fig, (ax_Low_Pass_10,ax_Low_Pass_20,ax_Low_Pass_30,ax_Low_Pass_40) = plt.subplots(4,1,sharex=True,figsize=(10,10))\n",
        "#\n",
        "# FILTRO 10\n",
        "ax_Low_Pass_10.plot(low_pass_10(N_terms),'ro')\n",
        "ax_Low_Pass_10.set_title('Filtro lineal (1-n/N)')\n",
        "ax_Low_Pass_10.grid()\n",
        "\n",
        "\n",
        "# FILTRO 20\n",
        "ax_Low_Pass_20.plot(low_pass_20(N_terms),'ro')\n",
        "ax_Low_Pass_20.set_title('1/(0.05n+1)')\n",
        "ax_Low_Pass_20.grid()\n",
        "#fig.tight_layout()\n",
        "\n",
        "# FILTRO 30\n",
        "ax_Low_Pass_30.plot(low_pass_30(N_terms),'ro')\n",
        "ax_Low_Pass_30.set_title('1/(0.5n+1)^1.5')\n",
        "ax_Low_Pass_30.grid()\n",
        "#fig.tight_layout()\n",
        "\n",
        "#\n",
        "# FILTRO 40\n",
        "ax_Low_Pass_40.plot(low_pass_40(N_terms),'ro',color='blue')\n",
        "ax_Low_Pass_40.set_title('1/(0.5n+1)')\n",
        "ax_Low_Pass_40.grid()\n",
        "#fig.tight_layout()\n",
        "\n",
        "\n",
        "fig.show()"
      ],
      "execution_count": null,
      "outputs": [
        {
          "output_type": "display_data",
          "data": {
            "image/png": "[encoded data removed]",
            "text/plain": [
              "<Figure size 720x720 with 4 Axes>"
            ]
          },
          "metadata": {
            "tags": [],
            "needs_background": "light"
          }
        }
      ]
    },
    {
      "cell_type": "code",
      "metadata": {
        "id": "qUWBI3uNWwUO",
        "colab_type": "code",
        "colab": {
          "base_uri": "https://localhost:8080/",
          "height": 33
        },
        "outputId": "5d39d91e-fe82-4f6b-ecf9-528402779848"
      },
      "source": [
        "print(low_pass_10(N_terms))"
      ],
      "execution_count": null,
      "outputs": [
        {
          "output_type": "stream",
          "text": [
            "[1.  0.9 0.8 0.7 0.6 0.5 0.4 0.3 0.2 0.1]\n"
          ],
          "name": "stdout"
        }
      ]
    },
    {
      "cell_type": "markdown",
      "metadata": {
        "id": "DPnp_wERGNoG",
        "colab_type": "text"
      },
      "source": [
        "## Efecto de los filtros"
      ]
    },
    {
      "cell_type": "code",
      "metadata": {
        "id": "udMhr13qY4As",
        "colab_type": "code",
        "colab": {
          "base_uri": "https://localhost:8080/",
          "height": 82
        },
        "outputId": "01e2feb3-05e3-430b-b945-b549373df547"
      },
      "source": [
        "Filtros={'1':low_pass_10,'2':low_pass_20,'3':low_pass_30,'4':low_pass_40}\n",
        "\n",
        "titulo={'1': '1111','2':'2222','3':'333','3':'444'}\n",
        "\n",
        "print('Escoja su serie:','\\n')\n",
        "print('1 para onda triangular, 2 para onda cuadrada, 3 para onda rectificada')\n",
        "\n",
        "W_ave=input('Su escogencia? ')"
      ],
      "execution_count": null,
      "outputs": [
        {
          "output_type": "stream",
          "text": [
            "Escoja su serie: \n",
            "\n",
            "1 para onda triangular, 2 para onda cuadrada, 3 para onda rectificada\n",
            "Su escogencia? 2\n"
          ],
          "name": "stdout"
        }
      ]
    },
    {
      "cell_type": "code",
      "metadata": {
        "id": "oOPW35MDXUd5",
        "colab_type": "code",
        "colab": {
          "base_uri": "https://localhost:8080/",
          "height": 575
        },
        "outputId": "98bd3e11-fe1d-4307-ec6b-8d6b58aadff2"
      },
      "source": [
        "def filtered_square(x,f,p):  \n",
        "    c=coeff_tri_a(p) # Nótese la llamada a los coeficientes de la onda triangular\n",
        "    filtro=low_pass_20(p)\n",
        "    c=c*filtro\n",
        "    val=0.\n",
        "    omega_0=2.*np.pi*f\n",
        "    for n in range(0,p):\n",
        "       omega_n=(2.*n+1)*omega_0\n",
        "       #\n",
        "       val = val+omega_n*c[n]*np.cos(omega_n*x-np.pi/2.)\n",
        "    return valdef filtered_square(x,f,p):  \n",
        "    c=coeff_tri_a(p) # Nótese la llamada a los coeficientes de la onda triangular\n",
        "    filtro=low_pass_20(p)\n",
        "    c=c*filtro\n",
        "    val=0.\n",
        "    omega_0=2.*np.pi*f\n",
        "    for n in range(0,p):\n",
        "       omega_n=(2.*n+1)*omega_0\n",
        "       #\n",
        "       val = val+omega_n*c[n]*np.cos(omega_n*x-np.pi/2.)\n",
        "…plt.plot (t , z )\n",
        "#plt.savefig ( \"wtf.pdf\" )\n",
        "plt.show () \n",
        "\n",
        "\n",
        "frec=float(input('Introduzca la frecuencia en Hz '))\n",
        "\n",
        "N_terms=int(input('cuantos terminos desea sumar? '))\n",
        "\n",
        "t_max=2 # segundos\n",
        "\n",
        "t = np.arange ( 0. , 2. , 0.01)\n",
        "\n",
        "N_samples=int(t_max/0.01)\n",
        "\n",
        "\n",
        "# Inicialización del vector (lista) de valores que se graficaran\n",
        "\n",
        "z=np.zeros(N_samples)\n",
        "\n",
        "# Evaluacion de la serie en el intervalo de interes\n",
        "\n",
        "#y=s_triang(t,p) # aprovechando la evaluación \"vectorial\" de Oython. t es una lista\n",
        "#y=s_square(t,frec,p)\n",
        "\n",
        "z=filtered_square(t,frec,N_terms) #W_ave es el 'nombre' de la onda.\n",
        "\n",
        "\n",
        "#plt.legend(loc='best')\n",
        "plt.title('Serie de Fourier Onda '+str(titulo[W_ave])+', número de términos: '+str(N_terms))\n",
        "plt.ylabel('Señal Graficación')\n",
        "plt.title('Filtro pasa bajo')\n",
        "plt.plot(low_pass_20(N_terms),'ro',color='blue')\n",
        "#plt.title('Serie de Fourier Onda '+str(titulo[W_ave])+', número de términos: '+str(N_terms))\n",
        "#plt.ylabel('Señal')\n",
        "#plt.xlabel('t, segundos')\n",
        "#plt.grid()\n",
        "#plt.plot (t , z )\n",
        "#plt.savefig ( \"wtf.pdf\" )\n",
        "plt.show ()\n",
        "plt.xlabel('t, segundos')\n",
        "plt.grid()\n",
        "plt.plot (t , z )\n",
        "#plt.savefig ( \"wtf.pdf\" )\n",
        "plt.show () "
      ],
      "execution_count": null,
      "outputs": [
        {
          "output_type": "stream",
          "text": [
            "Introduzca la frecuencia en Hz 0.5\n",
            "cuantos terminos desea sumar? 10\n"
          ],
          "name": "stdout"
        },
        {
          "output_type": "display_data",
          "data": {
            "image/png": "[encoded data removed]",
            "text/plain": [
              "<Figure size 432x288 with 1 Axes>"
            ]
          },
          "metadata": {
            "tags": [],
            "needs_background": "light"
          }
        },
        {
          "output_type": "display_data",
          "data": {
            "image/png": "[encoded data removed]",
            "text/plain": [
              "<Figure size 432x288 with 1 Axes>"
            ]
          },
          "metadata": {
            "tags": [],
            "needs_background": "light"
          }
        }
      ]
    },
    {
      "cell_type": "markdown",
      "metadata": {
        "id": "V3iOmQjUO80l",
        "colab_type": "text"
      },
      "source": [
        "## Filtros pasa altas"
      ]
    },
    {
      "cell_type": "code",
      "metadata": {
        "id": "j9gr4j2xIfHB",
        "colab_type": "code",
        "colab": {}
      },
      "source": [
        "# High pass 1\n",
        "\n",
        "\n",
        "\n",
        "def high_pass_10(N):\n",
        "  filt_1=np.zeros(N) #inicializacion\n",
        "  # Calculo\n",
        "  for n in range(0,N):\n",
        "    filt_1[n]=0.1*n/N \n",
        "  return filt_1\n",
        "\n",
        "def high_pass_20(N):\n",
        "  filt_2=np.zeros(N) #inicializacion\n",
        "  # Calculo\n",
        "  for n in range(0,N):\n",
        "    filt_2[n]=np.tanh(2.5*n/(N)) \n",
        "  return filt_2\n",
        "\n",
        "def high_pass_30(N):\n",
        "  filt_3=np.zeros(N) #inicializacion\n",
        "  # Calculo\n",
        "  for n in range(0,N):\n",
        "    k=n\n",
        "    filt_3[n]=k/np.sqrt(1+(k/25.)**2)\n",
        "  return filt_3\n",
        "\n",
        "\n",
        "\n"
      ],
      "execution_count": null,
      "outputs": []
    },
    {
      "cell_type": "code",
      "metadata": {
        "id": "FxMIrmQEj62K",
        "colab_type": "code",
        "colab": {
          "base_uri": "https://localhost:8080/",
          "height": 607
        },
        "outputId": "fb959c19-af19-4f45-87ad-2446d6740f28"
      },
      "source": [
        "# Graficación\n",
        "\n",
        "N_terms=40\n",
        "\n",
        "fig, (ax_high_pass_10,ax_high_pass_20,ax_high_pass_30) = plt.subplots(3,1,sharex=True,figsize=(10,10))\n",
        "#\n",
        "# FILTRO 10\n",
        "ax_high_pass_10.plot(high_pass_10(N_terms),'ro')\n",
        "ax_high_pass_10.set_title('Filtro lineal (1-n/N)')\n",
        "ax_high_pass_10.grid()\n",
        "\n",
        "# FILTRO 10\n",
        "ax_high_pass_20.plot(high_pass_20(N_terms),'ro')\n",
        "ax_high_pass_20.set_title('Filtro lineal (1-n/N)')\n",
        "ax_high_pass_20.grid()\n",
        "\n",
        "# FILTRO 10\n",
        "ax_high_pass_30.plot(high_pass_30(N_terms),'ro')\n",
        "ax_high_pass_30.set_title('Filtro lineal (1-n/N)')\n",
        "ax_high_pass_30.grid()"
      ],
      "execution_count": null,
      "outputs": [
        {
          "output_type": "display_data",
          "data": {
            "image/png": "[encoded data removed]",
            "text/plain": [
              "<Figure size 720x720 with 3 Axes>"
            ]
          },
          "metadata": {
            "tags": [],
            "needs_background": "light"
          }
        }
      ]
    },
    {
      "cell_type": "markdown",
      "metadata": {
        "id": "e53G1U4vGcL8",
        "colab_type": "text"
      },
      "source": [
        "## Efectos del filtrado"
      ]
    },
    {
      "cell_type": "code",
      "metadata": {
        "id": "HBoDBTgmsCt0",
        "colab_type": "code",
        "colab": {
          "base_uri": "https://localhost:8080/",
          "height": 575
        },
        "outputId": "458d117c-4076-48a7-856d-d8ad406dd214"
      },
      "source": [
        "def hp_filtered_square(x,f,p):  \n",
        "    c=coeff_tri_a(p) # Nótese la llamada a los coeficientes de la onda triangular\n",
        "    filtro=high_pass_20(p)\n",
        "    c=c*filtro\n",
        "    val=0.\n",
        "    omega_0=2.*np.pi*f\n",
        "    for n in range(0,p):\n",
        "       omega_n=(2.*n+1)*omega_0\n",
        "       #\n",
        "       val = val+omega_n*c[n]*np.cos(omega_n*x-np.pi/2.)\n",
        "    return val\n",
        "\n",
        "\n",
        "frec=float(input('Introduzca la frecuencia en Hz '))\n",
        "\n",
        "N_terms=int(input('cuantos terminos desea sumar? '))\n",
        "\n",
        "t_max=2 # segundos\n",
        "\n",
        "t = np.arange ( 0. , 2. , 0.01)\n",
        "\n",
        "N_samples=int(t_max/0.01)\n",
        "\n",
        "\n",
        "# Inicialización del vector (lista) de valores que se graficaran\n",
        "\n",
        "z=np.zeros(N_samples)\n",
        "\n",
        "# Evaluacion de la serie en el intervalo de interes\n",
        "\n",
        "#y=s_triang(t,p) # aprovechando la evaluación \"vectorial\" de Oython. t es una lista\n",
        "#y=s_square(t,frec,p)\n",
        "\n",
        "z=hp_filtered_square(t,frec,N_terms) #W_ave es el 'nombre' de la onda.\n",
        "\n",
        "\n",
        "#plt.legend(loc='best')\n",
        "plt.title('Serie de Fourier Onda '+str(titulo[W_ave])+', número de términos: '+str(N_terms))\n",
        "plt.ylabel('Señal Graficación')\n",
        "plt.title('Filtro pasa bajo')\n",
        "plt.plot(high_pass_20(N_terms),'ro',color='blue')\n",
        "#plt.title('Serie de Fourier Onda '+str(titulo[W_ave])+', número de términos: '+str(N_terms))\n",
        "#plt.ylabel('Señal')\n",
        "#plt.xlabel('t, segundos')\n",
        "#plt.grid()\n",
        "#plt.plot (t , z )\n",
        "#plt.savefig ( \"wtf.pdf\" )\n",
        "plt.show ()\n",
        "plt.xlabel('t, segundos')\n",
        "plt.grid()\n",
        "plt.plot (t , z )\n",
        "#plt.savefig ( \"wtf.pdf\" )\n",
        "plt.show () "
      ],
      "execution_count": null,
      "outputs": [
        {
          "output_type": "stream",
          "text": [
            "Introduzca la frecuencia en Hz 0.5\n",
            "cuantos terminos desea sumar? 15\n"
          ],
          "name": "stdout"
        },
        {
          "output_type": "display_data",
          "data": {
            "image/png": "[encoded data removed]",
            "text/plain": [
              "<Figure size 432x288 with 1 Axes>"
            ]
          },
          "metadata": {
            "tags": [],
            "needs_background": "light"
          }
        },
        {
          "output_type": "display_data",
          "data": {
            "image/png": "[encoded data removed]",
            "text/plain": [
              "<Figure size 432x288 with 1 Axes>"
            ]
          },
          "metadata": {
            "tags": [],
            "needs_background": "light"
          }
        }
      ]
    }
  ]
}